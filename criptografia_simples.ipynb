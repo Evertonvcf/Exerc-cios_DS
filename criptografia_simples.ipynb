{
  "nbformat": 4,
  "nbformat_minor": 0,
  "metadata": {
    "colab": {
      "provenance": [],
      "authorship_tag": "ABX9TyNjDuI0Q9tNqK/xNGE08l1+",
      "include_colab_link": true
    },
    "kernelspec": {
      "name": "python3",
      "display_name": "Python 3"
    },
    "language_info": {
      "name": "python"
    }
  },
  "cells": [
    {
      "cell_type": "markdown",
      "metadata": {
        "id": "view-in-github",
        "colab_type": "text"
      },
      "source": [
        "<a href=\"https://colab.research.google.com/github/Evertonvcf/Exerc-cios_DS/blob/main/criptografia_simples.ipynb\" target=\"_parent\"><img src=\"https://colab.research.google.com/assets/colab-badge.svg\" alt=\"Open In Colab\"/></a>"
      ]
    },
    {
      "cell_type": "code",
      "execution_count": null,
      "metadata": {
        "colab": {
          "base_uri": "https://localhost:8080/"
        },
        "id": "nZEp3WeW2izM",
        "outputId": "a5b81f5c-46ce-43bf-a592-23dc2e2f77b5"
      },
      "outputs": [
        {
          "output_type": "stream",
          "name": "stdout",
          "text": [
            "Digite uma palavra Everton\n",
            "Fwfsupo\n"
          ]
        }
      ],
      "source": [
        "#Exercicio de criptografia simples.\n",
        "def exercicio1 ():\n",
        "  palavra = input(\"Digite uma palavra \")\n",
        "  lista = list(palavra)\n",
        "  segredo = \"\"\n",
        "  for x in lista:\n",
        "    if (x == \"z\"): segredo += \"a\"\n",
        "    elif(x == \"Z\"):segredo+=\"A\"\n",
        "    else : segredo += chr(ord (x)+1)\n",
        "  print(segredo)\n",
        "\n",
        "\n",
        "exercicio1 ()\n",
        "\n"
      ]
    },
    {
      "cell_type": "code",
      "source": [],
      "metadata": {
        "id": "pDWjKI8CQyVH"
      },
      "execution_count": null,
      "outputs": []
    }
  ]
}